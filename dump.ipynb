{
 "cells": [
  {
   "cell_type": "markdown",
   "metadata": {},
   "source": [
    "This file is used to store unwanted code. Storing it for recovery, if needed in the future. "
   ]
  },
  {
   "cell_type": "markdown",
   "metadata": {},
   "source": [
    "Storing the student and the teacher class."
   ]
  },
  {
   "cell_type": "code",
   "execution_count": null,
   "metadata": {},
   "outputs": [],
   "source": [
    "class Student(UserMixin,db.Model):\n",
    "    token = db.Column(db.Integer(), primary_key=True) # primary keys are required by SQLAlchemy\n",
    "    name = db.Column(db.String(1000))\n",
    "    password = db.Column(db.String(1000))\n",
    "    mobile = db.Column(db.String(1000)) \n",
    "    userName = db.Column(db.String(1000))\n",
    "\n",
    "class Teacher(UserMixin,db.Model):\n",
    "    token = db.Column(db.Integer(), primary_key=True) # primary keys are required by SQLAlchemy\n",
    "    name = db.Column(db.String(1000))\n",
    "    password = db.Column(db.String(1000))\n",
    "    mobile = db.Column(db.String(1000)) \n",
    "    userName = db.Column(db.String(1000))\n",
    "\n",
    "    # role = db.Column(db.String(1000))"
   ]
  }
 ],
 "metadata": {
  "kernelspec": {
   "display_name": "Python 3",
   "language": "python",
   "name": "python3"
  },
  "language_info": {
   "codemirror_mode": {
    "name": "ipython",
    "version": 3
   },
   "file_extension": ".py",
   "mimetype": "text/x-python",
   "name": "python",
   "nbconvert_exporter": "python",
   "pygments_lexer": "ipython3",
   "version": "3.11.5"
  }
 },
 "nbformat": 4,
 "nbformat_minor": 2
}
