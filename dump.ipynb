{
 "cells": [
  {
   "cell_type": "markdown",
   "metadata": {},
   "source": [
    "This file is used to store unwanted code. Storing it for recovery, if needed in the future. "
   ]
  },
  {
   "cell_type": "markdown",
   "metadata": {},
   "source": [
    "Storing the student and the teacher class."
   ]
  },
  {
   "cell_type": "code",
   "execution_count": null,
   "metadata": {},
   "outputs": [],
   "source": [
    "class Student(UserMixin,db.Model):\n",
    "    token = db.Column(db.Integer(), primary_key=True) # primary keys are required by SQLAlchemy\n",
    "    name = db.Column(db.String(1000))\n",
    "    password = db.Column(db.String(1000))\n",
    "    mobile = db.Column(db.String(1000)) \n",
    "    userName = db.Column(db.String(1000))\n",
    "\n",
    "class Teacher(UserMixin,db.Model):\n",
    "    token = db.Column(db.Integer(), primary_key=True) # primary keys are required by SQLAlchemy\n",
    "    name = db.Column(db.String(1000))\n",
    "    password = db.Column(db.String(1000))\n",
    "    mobile = db.Column(db.String(1000)) \n",
    "    userName = db.Column(db.String(1000))\n",
    "\n",
    "    # role = db.Column(db.String(1000))"
   ]
  },
  {
   "cell_type": "markdown",
   "metadata": {},
   "source": [
    "Data storage in DB"
   ]
  },
  {
   "cell_type": "code",
   "execution_count": null,
   "metadata": {},
   "outputs": [],
   "source": [
    "    if roleValue == 'Student':  #Check for dupicacy        \n",
    "\n",
    "        if(Name!=None and passWord!=None and mobileNumber != None):    \n",
    "            newStudent = User(name=Name,password=passWord,mobile=mobileNumber,userName=username)\n",
    "            db.session.add(newStudent)\n",
    "            db.session.commit()\n",
    "        else:\n",
    "            return render_template('error.html',error_message=utilities.errorList['emptyInput'])\n",
    "        \n",
    "    #Saving teacher input \n",
    "    elif roleValue == 'Teacher':    #Check for duplicacy \n",
    "        try:\n",
    "            teacher= teacher.query.filter_by(userName=username).first()\n",
    "            if student:\n",
    "                return render_template('error.html', error_message=utilities.errorList['duplicateUser'])\n",
    "        except:\n",
    "            return render_template('error.html', error_message=utilities.errorList['generalError'])\n",
    "\n",
    "        if(Name!=None and passWord!=None and mobileNumber != None):    \n",
    "            newTeacher= Teacher(name=Name,password=passWord,mobile=mobileNumber,userName=username)\n",
    "            db.session.add(newTeacher)\n",
    "            db.session.commit()\n",
    "        else:\n",
    "            return render_template('error.html',error_message=utilities.errorList['emptyInput'])\n",
    "    else:\n",
    "        return render_template('error.html',error_message=utilities.errorList['invalidRole'])"
   ]
  }
 ],
 "metadata": {
  "kernelspec": {
   "display_name": "Python 3",
   "language": "python",
   "name": "python3"
  },
  "language_info": {
   "codemirror_mode": {
    "name": "ipython",
    "version": 3
   },
   "file_extension": ".py",
   "mimetype": "text/x-python",
   "name": "python",
   "nbconvert_exporter": "python",
   "pygments_lexer": "ipython3",
   "version": "3.11.5"
  }
 },
 "nbformat": 4,
 "nbformat_minor": 2
}
